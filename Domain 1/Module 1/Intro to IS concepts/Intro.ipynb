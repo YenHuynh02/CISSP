{
 "cells": [
  {
   "cell_type": "markdown",
   "id": "d415dd44",
   "metadata": {},
   "source": [
    "<img src='image.png'>\n",
    "<img src='image-1.png'>\n",
    "<img src='image-2.png'>\n",
    "<img src='image-3.png'>\n",
    "<img src='image-4.png'>\n",
    "<img src='image-5.png'>\n",
    "<img src='image-6.png'>"
   ]
  }
 ],
 "metadata": {
  "kernelspec": {
   "display_name": "Python 3",
   "language": "python",
   "name": "python3"
  },
  "language_info": {
   "codemirror_mode": {
    "name": "ipython",
    "version": 3
   },
   "file_extension": ".py",
   "mimetype": "text/x-python",
   "name": "python",
   "nbconvert_exporter": "python",
   "pygments_lexer": "ipython3",
   "version": "3.11.9"
  }
 },
 "nbformat": 4,
 "nbformat_minor": 5
}
