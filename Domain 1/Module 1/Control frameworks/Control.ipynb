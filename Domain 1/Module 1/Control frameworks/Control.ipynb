{
 "cells": [
  {
   "cell_type": "markdown",
   "id": "226cff26",
   "metadata": {},
   "source": [
    "<img src='image.png'>\n",
    "<img src='image-1.png'>\n",
    "<img src='image-2.png'>\n",
    "<img src='image-3.png'>\n",
    "<img src='image-4.png'>\n",
    "<img src='image-5.png'>\n",
    "<img src='image-6.png'>\n",
    "<img src='image-7.png'>\n",
    "<img src='image-8.png'>\n",
    "<img src='image-9.png'>"
   ]
  }
 ],
 "metadata": {
  "language_info": {
   "name": "python"
  }
 },
 "nbformat": 4,
 "nbformat_minor": 5
}
