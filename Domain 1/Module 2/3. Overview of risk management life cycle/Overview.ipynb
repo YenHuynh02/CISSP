{
 "cells": [
  {
   "cell_type": "markdown",
   "id": "6596d325",
   "metadata": {},
   "source": [
    "<img src='image.png'>"
   ]
  }
 ],
 "metadata": {
  "language_info": {
   "name": "python"
  }
 },
 "nbformat": 4,
 "nbformat_minor": 5
}
