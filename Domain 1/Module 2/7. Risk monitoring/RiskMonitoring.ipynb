{
 "cells": [
  {
   "cell_type": "markdown",
   "id": "8677930f",
   "metadata": {},
   "source": [
    "<img src='image.png'>\n",
    "<img src='image-1.png'>\n",
    "<img src='image-2.png'>\n",
    "<img src='image-3.png'>"
   ]
  }
 ],
 "metadata": {
  "language_info": {
   "name": "python"
  }
 },
 "nbformat": 4,
 "nbformat_minor": 5
}
