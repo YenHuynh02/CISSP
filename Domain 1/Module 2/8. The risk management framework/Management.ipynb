{
 "cells": [
  {
   "cell_type": "markdown",
   "id": "9dd446c4",
   "metadata": {},
   "source": [
    "<img src='image.png'>"
   ]
  }
 ],
 "metadata": {
  "language_info": {
   "name": "python"
  }
 },
 "nbformat": 4,
 "nbformat_minor": 5
}
