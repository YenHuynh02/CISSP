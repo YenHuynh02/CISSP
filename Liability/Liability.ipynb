{
 "cells": [
  {
   "cell_type": "markdown",
   "id": "2a572987",
   "metadata": {},
   "source": [
    "<img src='image.png'>\n",
    "<img src='image-1.png'>"
   ]
  }
 ],
 "metadata": {
  "language_info": {
   "name": "python"
  }
 },
 "nbformat": 4,
 "nbformat_minor": 5
}
