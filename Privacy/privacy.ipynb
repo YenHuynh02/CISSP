{
 "cells": [
  {
   "cell_type": "markdown",
   "id": "c0066f2e",
   "metadata": {},
   "source": [
    "<img src='image.png'>\n",
    "<img src='image-1.png'>\n",
    "<img src='image-2.png'>\n",
    "<img src='image-3.png'>"
   ]
  }
 ],
 "metadata": {
  "language_info": {
   "name": "python"
  }
 },
 "nbformat": 4,
 "nbformat_minor": 5
}
